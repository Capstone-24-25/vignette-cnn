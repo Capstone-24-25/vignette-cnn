{
 "cells": [
  {
   "cell_type": "markdown",
   "metadata": {},
   "source": [
    "# Modeling Section\n",
    "- We first can start with a simple convolution model to see how well a few different architectures will pick up on the training data set,\n",
    "- Then we will apply a hyperparameter tuning technique, called Hyperband tuning, to find the best setup."
   ]
  },
  {
   "cell_type": "code",
   "execution_count": null,
   "metadata": {},
   "outputs": [],
   "source": [
    "from tensorflow.keras.models import Sequential\n",
    "from tensorflow.keras.layers import Conv2D, MaxPooling2D, Flatten, Dense"
   ]
  },
  {
   "cell_type": "code",
   "execution_count": null,
   "metadata": {},
   "outputs": [],
   "source": [
    "\n",
    "from kerastuner.tuners import Hyperband\n",
    "\n",
    "# building a hyperband model to find the best model architecture\n",
    "def build_model(hp):\n",
    "    '''Hyperband function to test different model architectures'''\n",
    "    model = sequential()\n",
    "    model.add(Conv2D(32, ))"
   ]
  }
 ],
 "metadata": {
  "language_info": {
   "name": "python"
  }
 },
 "nbformat": 4,
 "nbformat_minor": 2
}
